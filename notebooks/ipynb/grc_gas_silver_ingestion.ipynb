{
 "cells": [
  {
   "cell_type": "markdown",
   "metadata": {
    "application/vnd.databricks.v1+cell": {
     "cellMetadata": {},
     "inputWidgets": {},
     "nuid": "13ebb1e0-311e-4713-8d62-b2b00f6e0eb0",
     "showTitle": false,
     "title": ""
    }
   },
   "source": [
    "\n",
    "# Gas Price Forecast"
   ]
  },
  {
   "cell_type": "markdown",
   "metadata": {
    "application/vnd.databricks.v1+cell": {
     "cellMetadata": {},
     "inputWidgets": {},
     "nuid": "7ada6dfc-9d80-4b56-a47c-6fea3dffd254",
     "showTitle": false,
     "title": ""
    }
   },
   "source": [
    "\n",
    "## 0.0. Requirements"
   ]
  },
  {
   "cell_type": "markdown",
   "metadata": {
    "application/vnd.databricks.v1+cell": {
     "cellMetadata": {},
     "inputWidgets": {},
     "nuid": "0270149b-7ccd-425d-b1a3-56c13721c29f",
     "showTitle": false,
     "title": ""
    }
   },
   "source": [
    "\n",
    "### 0.1. Imports"
   ]
  },
  {
   "cell_type": "code",
   "execution_count": 0,
   "metadata": {
    "application/vnd.databricks.v1+cell": {
     "cellMetadata": {
      "byteLimit": 2048000,
      "rowLimit": 10000
     },
     "inputWidgets": {},
     "nuid": "9994c34a-4a58-47dc-8150-0463ee0fb432",
     "showTitle": false,
     "title": ""
    }
   },
   "outputs": [
    {
     "output_type": "display_data",
     "data": {
      "application/vnd.databricks.v1+bamboolib_hint": "{\"pd.DataFrames\": [], \"version\": \"0.0.1\"}",
      "text/plain": []
     },
     "metadata": {},
     "output_type": "display_data"
    }
   ],
   "source": [
    "import pandas as pd\n",
    "\n",
    "from pytz import timezone\n",
    "from datetime import datetime\n",
    "\n",
    "from pyspark.sql import functions as pf"
   ]
  },
  {
   "cell_type": "markdown",
   "metadata": {
    "application/vnd.databricks.v1+cell": {
     "cellMetadata": {},
     "inputWidgets": {},
     "nuid": "d82ebc14-5b71-4c22-a825-ac7c42bb680d",
     "showTitle": false,
     "title": ""
    }
   },
   "source": [
    "\n",
    "### 0.2. S3 Connection"
   ]
  },
  {
   "cell_type": "code",
   "execution_count": 0,
   "metadata": {
    "application/vnd.databricks.v1+cell": {
     "cellMetadata": {
      "byteLimit": 2048000,
      "rowLimit": 10000
     },
     "inputWidgets": {},
     "nuid": "eaa8e51a-ec59-4152-a680-b5abcd91c091",
     "showTitle": false,
     "title": ""
    }
   },
   "outputs": [],
   "source": [
    "# secrets is not available on Community =D\n",
    "#access_key = dbutils.secrets.get(scope = \"aws\", key = \"aws-access-key\")\n",
    "#secret_key = dbutils.secrets.get(scope = \"aws\", key = \"aws-secret-key\")\n",
    "#bronze_bucket_name = dbutils.secrets.get(scope = \"aws\", key = \"aws-bucket-bronze\")\n",
    "#silver_bucket_name = dbutils.secrets.get(scope = \"aws\", key = \"aws-bucket-silver\")"
   ]
  },
  {
   "cell_type": "code",
   "execution_count": 0,
   "metadata": {
    "application/vnd.databricks.v1+cell": {
     "cellMetadata": {},
     "inputWidgets": {},
     "nuid": "dbd6fdee-f497-43e7-8148-380e0f4d471f",
     "showTitle": false,
     "title": ""
    }
   },
   "outputs": [],
   "source": [
    "# encoded_secret_key = secret_key.replace(\"/\", \"%2F\")\n",
    "# aws_bucket_name = \"example-aws-bucket\"\n",
    "# mount_name = \"mount-name\"\n",
    "# \n",
    "# dbutils.fs.mount(\n",
    "#     f\"s3a://{access_key}:{encoded_secret_key}@{aws_bucket_name}\", \n",
    "#     f\"/mnt/{mount_name}\"\n",
    "# )"
   ]
  },
  {
   "cell_type": "code",
   "execution_count": 0,
   "metadata": {
    "application/vnd.databricks.v1+cell": {
     "cellMetadata": {},
     "inputWidgets": {},
     "nuid": "8e8ef518-a77a-4a1d-b685-ab56822714ca",
     "showTitle": false,
     "title": ""
    }
   },
   "outputs": [],
   "source": [
    "#spark.sql(\"CREATE EXTERNAL LOCATION [IF NOT EXISTS] <example-location-name-aws> URL 's3://<bucket-name>/<example-path>'\n",
    "#     WITH (CREDENTIAL <aws-credential-name>)\")"
   ]
  },
  {
   "cell_type": "code",
   "execution_count": 0,
   "metadata": {
    "application/vnd.databricks.v1+cell": {
     "cellMetadata": {
      "byteLimit": 2048000,
      "rowLimit": 10000
     },
     "inputWidgets": {},
     "nuid": "349cdd70-bc53-4138-8139-c947acbfb401",
     "showTitle": false,
     "title": ""
    }
   },
   "outputs": [],
   "source": [
    "# Another Way\n",
    "# sc._jsc.hadoopConfiguration().set(\"fs.s3a.access.key\", access_key)\n",
    "# sc._jsc.hadoopConfiguration().set(\"fs.s3a.secret.key\", secret_key)\n",
    "# sc._jsc.hadoopConfiguration().set(\"fs.s3a.attempts.maximum\", \"3\")\n",
    "# sc._jsc.hadoopConfiguration().set(\"fs.s3a.connection.timeout\", \"10000\")\n",
    "# sc._jsc.hadoopConfiguration().set(\"fs.s3a.disable.chunked.encoding\", \"True\")\n",
    "# sc._jsc.hadoopConfiguration().set(\"fs.s3a.connection.establish.timeout\", \"5000\")\n",
    "# sc._jsc.hadoopConfiguration().set(\"spark.hadoop.fs.s3a.path.style.access\", \"True\")\n",
    "# sc._jsc.hadoopConfiguration().set(\"spark.hadoop.fs.s3a.impl\", \"org.apache.hadoop.fs.s3a.S3AFileSystem\")"
   ]
  },
  {
   "cell_type": "markdown",
   "metadata": {
    "application/vnd.databricks.v1+cell": {
     "cellMetadata": {},
     "inputWidgets": {},
     "nuid": "333c6f4f-1763-4ad3-b6e7-fd74805eb4fc",
     "showTitle": false,
     "title": ""
    }
   },
   "source": [
    "\n",
    "### 0.3. Data Load"
   ]
  },
  {
   "cell_type": "code",
   "execution_count": 0,
   "metadata": {
    "application/vnd.databricks.v1+cell": {
     "cellMetadata": {},
     "inputWidgets": {},
     "nuid": "722a60e8-0e47-40db-b5c7-cae859ba378e",
     "showTitle": false,
     "title": ""
    }
   },
   "outputs": [],
   "source": [
    "date_file = datetime.now(tz=timezone(\"America/Sao_Paulo\")).strftime(\"%Y%m%d\")\n",
    "\n",
    "df = spark.read.format(\"delta\").load(f\"s3://{bronze_bucket_name}/gas\")\n",
    "df = df.filter(pf.col(\"data_base\") == date_file)\n",
    "\n",
    "if not df.head(1):\n",
    "    raise ValueError(\"Empty DataFrame\")"
   ]
  },
  {
   "cell_type": "markdown",
   "metadata": {
    "application/vnd.databricks.v1+cell": {
     "cellMetadata": {},
     "inputWidgets": {},
     "nuid": "9f0fae86-5922-4657-ade3-8cbce253d07d",
     "showTitle": false,
     "title": ""
    }
   },
   "source": [
    "\n",
    "## 1.0. Data Enrichment"
   ]
  },
  {
   "cell_type": "markdown",
   "metadata": {
    "application/vnd.databricks.v1+cell": {
     "cellMetadata": {},
     "inputWidgets": {},
     "nuid": "660909ae-bebf-4850-bf94-b98c831dd241",
     "showTitle": false,
     "title": ""
    }
   },
   "source": [
    "\n",
    "### 1.1. Change Data Types"
   ]
  },
  {
   "cell_type": "code",
   "execution_count": 0,
   "metadata": {
    "application/vnd.databricks.v1+cell": {
     "cellMetadata": {
      "byteLimit": 2048000,
      "rowLimit": 10000
     },
     "inputWidgets": {},
     "nuid": "bdab26cb-158e-4042-8f68-26d9e420cc9f",
     "showTitle": false,
     "title": ""
    }
   },
   "outputs": [],
   "source": [
    "pop_cols = [\"Date\", \"data_base\"]\n",
    "states = [k for k in df.columns if k not in [\"Date\", \"data_base\"]]"
   ]
  },
  {
   "cell_type": "code",
   "execution_count": 0,
   "metadata": {
    "application/vnd.databricks.v1+cell": {
     "cellMetadata": {},
     "inputWidgets": {},
     "nuid": "e120eecd-411e-4e82-b5c3-614d52aec33f",
     "showTitle": false,
     "title": ""
    }
   },
   "outputs": [],
   "source": [
    "df = df.withColumn(\n",
    "    \"Date\",\n",
    "    pf.to_date(pf.col(\"Date\"), \"yyyy-MM-dd\")\n",
    ")\n",
    "\n",
    "df = df.select(pop_cols + [pf.col(k).cast(\"double\").alias(k) for k in states])"
   ]
  },
  {
   "cell_type": "markdown",
   "metadata": {
    "application/vnd.databricks.v1+cell": {
     "cellMetadata": {},
     "inputWidgets": {},
     "nuid": "a7e5177d-cbbb-4987-93f9-3d47c6739b55",
     "showTitle": false,
     "title": ""
    }
   },
   "source": [
    "\n",
    "## 2.0. Save to Silver"
   ]
  },
  {
   "cell_type": "code",
   "execution_count": 0,
   "metadata": {
    "application/vnd.databricks.v1+cell": {
     "cellMetadata": {
      "byteLimit": 2048000,
      "rowLimit": 10000
     },
     "inputWidgets": {},
     "nuid": "0733b1fb-a063-443b-967d-dbb43c9cf4d4",
     "showTitle": false,
     "title": ""
    }
   },
   "outputs": [],
   "source": [
    "df.write.format(\"delta\").mode(\"overwrite\").save(f\"s3://{silver_bucket_name}/gas\")"
   ]
  }
 ],
 "metadata": {
  "application/vnd.databricks.v1+notebook": {
   "dashboards": [],
   "language": "python",
   "notebookMetadata": {
    "mostRecentlyExecutedCommandWithImplicitDF": {
     "commandId": 115764812585422,
     "dataframes": [
      "_sqldf"
     ]
    },
    "pythonIndentUnit": 4
   },
   "notebookName": "grc_gas_silver_ingestion",
   "widgets": {}
  }
 },
 "nbformat": 4,
 "nbformat_minor": 0
}
