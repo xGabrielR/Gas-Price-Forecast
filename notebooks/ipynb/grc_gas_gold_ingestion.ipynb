{
 "cells": [
  {
   "cell_type": "markdown",
   "metadata": {
    "application/vnd.databricks.v1+cell": {
     "cellMetadata": {},
     "inputWidgets": {},
     "nuid": "13ebb1e0-311e-4713-8d62-b2b00f6e0eb0",
     "showTitle": false,
     "title": ""
    }
   },
   "source": [
    "\n",
    "# Gas Price Forecast"
   ]
  },
  {
   "cell_type": "markdown",
   "metadata": {
    "application/vnd.databricks.v1+cell": {
     "cellMetadata": {},
     "inputWidgets": {},
     "nuid": "7ada6dfc-9d80-4b56-a47c-6fea3dffd254",
     "showTitle": false,
     "title": ""
    }
   },
   "source": [
    "\n",
    "## 0.0. Requirements"
   ]
  },
  {
   "cell_type": "markdown",
   "metadata": {
    "application/vnd.databricks.v1+cell": {
     "cellMetadata": {},
     "inputWidgets": {},
     "nuid": "0270149b-7ccd-425d-b1a3-56c13721c29f",
     "showTitle": false,
     "title": ""
    }
   },
   "source": [
    "\n",
    "### 0.1. Imports"
   ]
  },
  {
   "cell_type": "code",
   "execution_count": 0,
   "metadata": {
    "application/vnd.databricks.v1+cell": {
     "cellMetadata": {
      "byteLimit": 2048000,
      "rowLimit": 10000
     },
     "inputWidgets": {},
     "nuid": "9994c34a-4a58-47dc-8150-0463ee0fb432",
     "showTitle": false,
     "title": ""
    }
   },
   "outputs": [
    {
     "output_type": "display_data",
     "data": {
      "application/vnd.databricks.v1+bamboolib_hint": "{\"pd.DataFrames\": [], \"version\": \"0.0.1\"}",
      "text/plain": []
     },
     "metadata": {},
     "output_type": "display_data"
    }
   ],
   "source": [
    "import pandas as pd\n",
    "\n",
    "from mlflow import pyfunc\n",
    "from pytz import timezone\n",
    "from datetime import datetime\n",
    "\n",
    "from pyspark.sql import functions as pf"
   ]
  },
  {
   "cell_type": "markdown",
   "metadata": {
    "application/vnd.databricks.v1+cell": {
     "cellMetadata": {},
     "inputWidgets": {},
     "nuid": "d82ebc14-5b71-4c22-a825-ac7c42bb680d",
     "showTitle": false,
     "title": ""
    }
   },
   "source": [
    "\n",
    "### 0.2. S3 Connection"
   ]
  },
  {
   "cell_type": "code",
   "execution_count": 0,
   "metadata": {
    "application/vnd.databricks.v1+cell": {
     "cellMetadata": {
      "byteLimit": 2048000,
      "rowLimit": 10000
     },
     "inputWidgets": {},
     "nuid": "eaa8e51a-ec59-4152-a680-b5abcd91c091",
     "showTitle": false,
     "title": ""
    }
   },
   "outputs": [],
   "source": [
    "# secrets is not available on Community =D\n",
    "#access_key = dbutils.secrets.get(scope = \"aws\", key = \"aws-access-key\")\n",
    "#secret_key = dbutils.secrets.get(scope = \"aws\", key = \"aws-secret-key\")\n",
    "#bronze_bucket_name = dbutils.secrets.get(scope = \"aws\", key = \"aws-bucket-bronze\")\n",
    "#silver_bucket_name = dbutils.secrets.get(scope = \"aws\", key = \"aws-bucket-silver\")"
   ]
  },
  {
   "cell_type": "code",
   "execution_count": 0,
   "metadata": {
    "application/vnd.databricks.v1+cell": {
     "cellMetadata": {},
     "inputWidgets": {},
     "nuid": "dbd6fdee-f497-43e7-8148-380e0f4d471f",
     "showTitle": false,
     "title": ""
    }
   },
   "outputs": [],
   "source": [
    "# encoded_secret_key = secret_key.replace(\"/\", \"%2F\")\n",
    "# aws_bucket_name = \"example-aws-bucket\"\n",
    "# mount_name = \"mount-name\"\n",
    "# \n",
    "# dbutils.fs.mount(\n",
    "#     f\"s3a://{access_key}:{encoded_secret_key}@{aws_bucket_name}\", \n",
    "#     f\"/mnt/{mount_name}\"\n",
    "# )"
   ]
  },
  {
   "cell_type": "code",
   "execution_count": 0,
   "metadata": {
    "application/vnd.databricks.v1+cell": {
     "cellMetadata": {},
     "inputWidgets": {},
     "nuid": "8e8ef518-a77a-4a1d-b685-ab56822714ca",
     "showTitle": false,
     "title": ""
    }
   },
   "outputs": [],
   "source": [
    "#spark.sql(\"CREATE EXTERNAL LOCATION [IF NOT EXISTS] <example-location-name-aws> URL 's3://<bucket-name>/<example-path>'\n",
    "#     WITH (CREDENTIAL <aws-credential-name>)\")"
   ]
  },
  {
   "cell_type": "code",
   "execution_count": 0,
   "metadata": {
    "application/vnd.databricks.v1+cell": {
     "cellMetadata": {
      "byteLimit": 2048000,
      "rowLimit": 10000
     },
     "inputWidgets": {},
     "nuid": "349cdd70-bc53-4138-8139-c947acbfb401",
     "showTitle": false,
     "title": ""
    }
   },
   "outputs": [],
   "source": [
    "# Another Way\n",
    "# sc._jsc.hadoopConfiguration().set(\"fs.s3a.access.key\", access_key)\n",
    "# sc._jsc.hadoopConfiguration().set(\"fs.s3a.secret.key\", secret_key)\n",
    "# sc._jsc.hadoopConfiguration().set(\"fs.s3a.attempts.maximum\", \"3\")\n",
    "# sc._jsc.hadoopConfiguration().set(\"fs.s3a.connection.timeout\", \"10000\")\n",
    "# sc._jsc.hadoopConfiguration().set(\"fs.s3a.disable.chunked.encoding\", \"True\")\n",
    "# sc._jsc.hadoopConfiguration().set(\"fs.s3a.connection.establish.timeout\", \"5000\")\n",
    "# sc._jsc.hadoopConfiguration().set(\"spark.hadoop.fs.s3a.path.style.access\", \"True\")\n",
    "# sc._jsc.hadoopConfiguration().set(\"spark.hadoop.fs.s3a.impl\", \"org.apache.hadoop.fs.s3a.S3AFileSystem\")"
   ]
  },
  {
   "cell_type": "markdown",
   "metadata": {
    "application/vnd.databricks.v1+cell": {
     "cellMetadata": {},
     "inputWidgets": {},
     "nuid": "333c6f4f-1763-4ad3-b6e7-fd74805eb4fc",
     "showTitle": false,
     "title": ""
    }
   },
   "source": [
    "\n",
    "### 0.3. Data Load"
   ]
  },
  {
   "cell_type": "code",
   "execution_count": 0,
   "metadata": {
    "application/vnd.databricks.v1+cell": {
     "cellMetadata": {},
     "inputWidgets": {},
     "nuid": "722a60e8-0e47-40db-b5c7-cae859ba378e",
     "showTitle": false,
     "title": ""
    }
   },
   "outputs": [],
   "source": [
    "df = spark.read.format(\"delta\").load(f\"s3://{silver_bucket_name}/gas\")"
   ]
  },
  {
   "cell_type": "markdown",
   "metadata": {
    "application/vnd.databricks.v1+cell": {
     "cellMetadata": {},
     "inputWidgets": {},
     "nuid": "9f0fae86-5922-4657-ade3-8cbce253d07d",
     "showTitle": false,
     "title": ""
    }
   },
   "source": [
    "\n",
    "## 1.0. Data Enrichment"
   ]
  },
  {
   "cell_type": "markdown",
   "metadata": {
    "application/vnd.databricks.v1+cell": {
     "cellMetadata": {},
     "inputWidgets": {},
     "nuid": "660909ae-bebf-4850-bf94-b98c831dd241",
     "showTitle": false,
     "title": ""
    }
   },
   "source": [
    "\n",
    "### 1.1. Rename Columns"
   ]
  },
  {
   "cell_type": "code",
   "execution_count": 0,
   "metadata": {
    "application/vnd.databricks.v1+cell": {
     "cellMetadata": {},
     "inputWidgets": {},
     "nuid": "423c5905-aac8-4258-831b-70fc78962063",
     "showTitle": false,
     "title": ""
    }
   },
   "outputs": [],
   "source": [
    "df = df.select([pf.col(k).alias(k[:-1].upper() if k.endswith(\"_\") else k.upper()) for k in df.columns])"
   ]
  },
  {
   "cell_type": "markdown",
   "metadata": {
    "application/vnd.databricks.v1+cell": {
     "cellMetadata": {},
     "inputWidgets": {},
     "nuid": "719f3e8a-bc8a-47a5-b0a4-5485780c2f81",
     "showTitle": false,
     "title": ""
    }
   },
   "source": [
    "\n",
    "### 1.2. Filter Columns"
   ]
  },
  {
   "cell_type": "code",
   "execution_count": 0,
   "metadata": {
    "application/vnd.databricks.v1+cell": {
     "cellMetadata": {},
     "inputWidgets": {},
     "nuid": "f456e182-c367-4297-b0e4-f59ff31bfd8e",
     "showTitle": false,
     "title": ""
    }
   },
   "outputs": [],
   "source": [
    "df = df.drop(pf.col(\"DATA_BASE\"))"
   ]
  },
  {
   "cell_type": "markdown",
   "metadata": {
    "application/vnd.databricks.v1+cell": {
     "cellMetadata": {},
     "inputWidgets": {},
     "nuid": "0caa294c-b7be-4dbe-9d37-291e96c0e0da",
     "showTitle": false,
     "title": ""
    }
   },
   "source": [
    "\n",
    "### 1.3. Machine Learning Inference"
   ]
  },
  {
   "cell_type": "code",
   "execution_count": 0,
   "metadata": {
    "application/vnd.databricks.v1+cell": {
     "cellMetadata": {
      "byteLimit": 2048000,
      "rowLimit": 10000
     },
     "inputWidgets": {},
     "nuid": "ade89fe5-60f8-4674-a139-0bde83e3df21",
     "showTitle": false,
     "title": ""
    }
   },
   "outputs": [
    {
     "output_type": "stream",
     "name": "stderr",
     "output_type": "stream",
     "text": [
      "/databricks/python_shell/dbruntime/PythonPackageImportsInstrumentation/__init__.py:171: TqdmExperimentalWarning: Using `tqdm.autonotebook.tqdm` in notebook mode. Use `tqdm.tqdm` instead to force console mode (e.g. in jupyter console)\n  original_result = python_builtin_import(name, globals, locals, fromlist, level)\n"
     ]
    }
   ],
   "source": [
    "model_uri = \"runs:/f02169dcf3ec41f6ba59e3deec7818e9/models/sf_object\"\n",
    "loaded_model = pyfunc.load_model(model_uri)\n",
    "\n",
    "# Get Forecasts\n",
    "forecast = loaded_model.predict(10)\n",
    "forecast = forecast.reset_index()\n",
    "\n",
    "# Prepare Dataset\n",
    "forecast = forecast.pivot(index=\"ds\", columns=\"unique_id\", values=\"CES\")\n",
    "forecast = forecast.reset_index()\n",
    "forecast.columns = [k[:-1].upper() if k.endswith(\"_\") else k.upper() for k in forecast.columns]\n",
    "forecast.rename(columns={\"DS\": \"DATE\"}, inplace=True)\n",
    "\n",
    "# Organize Columns\n",
    "forecast = forecast[df.columns]\n",
    "\n",
    "# Create Spark DataFrame\n",
    "forecast = spark.createDataFrame(forecast)\n",
    "forecast = forecast.withColumn(\"DATE\", pf.to_date(pf.col(\"DATE\")))"
   ]
  },
  {
   "cell_type": "markdown",
   "metadata": {
    "application/vnd.databricks.v1+cell": {
     "cellMetadata": {},
     "inputWidgets": {},
     "nuid": "54620175-be85-442e-aef6-730c58af9f7f",
     "showTitle": false,
     "title": ""
    }
   },
   "source": [
    "\n",
    "### 1.4. Union DataFrames"
   ]
  },
  {
   "cell_type": "code",
   "execution_count": 0,
   "metadata": {
    "application/vnd.databricks.v1+cell": {
     "cellMetadata": {},
     "inputWidgets": {},
     "nuid": "e72994a4-8bf6-4b33-abe4-72fe41f69aa9",
     "showTitle": false,
     "title": ""
    }
   },
   "outputs": [],
   "source": [
    "df = df.unionAll(forecast)"
   ]
  },
  {
   "cell_type": "markdown",
   "metadata": {
    "application/vnd.databricks.v1+cell": {
     "cellMetadata": {},
     "inputWidgets": {},
     "nuid": "a7e5177d-cbbb-4987-93f9-3d47c6739b55",
     "showTitle": false,
     "title": ""
    }
   },
   "source": [
    "\n",
    "## 2.0. Save to Gold"
   ]
  },
  {
   "cell_type": "code",
   "execution_count": 0,
   "metadata": {
    "application/vnd.databricks.v1+cell": {
     "cellMetadata": {
      "byteLimit": 2048000,
      "rowLimit": 10000
     },
     "inputWidgets": {},
     "nuid": "0733b1fb-a063-443b-967d-dbb43c9cf4d4",
     "showTitle": false,
     "title": ""
    }
   },
   "outputs": [],
   "source": [
    "df.write.format(\"delta\").mode(\"overwrite\").save(f\"s3://{gold_bucket_name}/gas_complete_forecast\")"
   ]
  }
 ],
 "metadata": {
  "application/vnd.databricks.v1+notebook": {
   "dashboards": [],
   "language": "python",
   "notebookMetadata": {
    "mostRecentlyExecutedCommandWithImplicitDF": {
     "commandId": 115764812585422,
     "dataframes": [
      "_sqldf"
     ]
    },
    "pythonIndentUnit": 4
   },
   "notebookName": "grc_gas_gold_ingestion",
   "widgets": {}
  }
 },
 "nbformat": 4,
 "nbformat_minor": 0
}
